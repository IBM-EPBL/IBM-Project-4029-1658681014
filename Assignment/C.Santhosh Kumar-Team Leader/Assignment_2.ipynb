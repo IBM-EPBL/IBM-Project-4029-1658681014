{
  "cells": [
    {
      "cell_type": "code",
      "execution_count": 32,
      "metadata": {
        "id": "1DrCpALtn4mv"
      },
      "outputs": [],
      "source": [
        "import numpy as np\n",
        "import pandas as pd\n",
        "import seaborn as sns\n",
        "import matplotlib.pyplot as plt"
      ]
    },
    {
      "cell_type": "code",
      "execution_count": 33,
      "metadata": {
        "id": "rjCPU1d9n7q6"
      },
      "outputs": [],
      "source": [
        "#################################################Set the backend of matplotlib to the 'inline' backend\n",
        "%matplotlib inline"
      ]
    },
    {
      "cell_type": "code",
      "execution_count": 34,
      "metadata": {
        "id": "UMx0h6m6ows2"
      },
      "outputs": [],
      "source": [
        "###############################################Formatting outputs using pandas\n",
        "pd.options.display.max_rows = 10\n",
        "pd.options.display.float_format = '{:,.2f}'.format\n",
        "plt.rcParams['figure.figsize'] = (16,8)"
      ]
    },
    {
      "cell_type": "code",
      "execution_count": null,
      "metadata": {
        "id": "iPriroZ0o3Bx"
      },
      "outputs": [],
      "source": [
        "################################################Loading Dataset\n",
        "df = pd.read_csv(\"/content/Churn_Modelling.csv\")\n",
        "df"
      ]
    },
    {
      "cell_type": "code",
      "execution_count": null,
      "metadata": {
        "id": "kkI5xEpWo_Ph"
      },
      "outputs": [],
      "source": [
        "df.info()"
      ]
    },
    {
      "cell_type": "code",
      "execution_count": null,
      "metadata": {
        "id": "gdA8KsXSqhWk"
      },
      "outputs": [],
      "source": [
        "df['Age'].value_counts().head(10000).plot.bar()"
      ]
    },
    {
      "cell_type": "code",
      "execution_count": null,
      "metadata": {
        "id": "DBDMwJ7ws_xl"
      },
      "outputs": [],
      "source": [
        "df['CreditScore'].value_counts().sort_index().plot.line()"
      ]
    },
    {
      "cell_type": "code",
      "execution_count": null,
      "metadata": {
        "id": "BU3ZC-J3tKWn"
      },
      "outputs": [],
      "source": [
        "df['Age'].value_counts().sort_index().plot.area()"
      ]
    },
    {
      "cell_type": "code",
      "execution_count": null,
      "metadata": {
        "id": "WGYYnu3b0dt_"
      },
      "outputs": [],
      "source": [
        "df['CreditScore'].plot.hist()"
      ]
    },
    {
      "cell_type": "code",
      "execution_count": null,
      "metadata": {
        "id": "ICViGMvo0t4M"
      },
      "outputs": [],
      "source": [
        "df[df['CreditScore']<100000].plot.scatter(x='CreditScore', y='Age')"
      ]
    },
    {
      "cell_type": "code",
      "execution_count": null,
      "metadata": {
        "id": "DeAFJVpa1R5n"
      },
      "outputs": [],
      "source": [
        "df[df['CreditScore']<100000].plot.hexbin(x='CreditScore', y='Age',gridsize=15)"
      ]
    },
    {
      "cell_type": "code",
      "execution_count": null,
      "metadata": {
        "id": "IZ3utxR51bWc"
      },
      "outputs": [],
      "source": [
        "df.sample(10).plot.bar(stacked=True)"
      ]
    },
    {
      "cell_type": "code",
      "execution_count": null,
      "metadata": {
        "id": "Ty0GNMOW2QR1"
      },
      "outputs": [],
      "source": [
        "df.plot.area()"
      ]
    },
    {
      "cell_type": "code",
      "execution_count": null,
      "metadata": {
        "id": "rhh5AwrY2qnz"
      },
      "outputs": [],
      "source": [
        "plt.figure(figsize = (15,15))\n",
        "sns.heatmap(df.corr(), annot = True)"
      ]
    },
    {
      "cell_type": "code",
      "execution_count": null,
      "metadata": {
        "id": "UsPXogNF4Gxn"
      },
      "outputs": [],
      "source": [
        "df.describe"
      ]
    },
    {
      "cell_type": "code",
      "execution_count": 47,
      "metadata": {
        "id": "E1En6zWJ4JfU"
      },
      "outputs": [],
      "source": [
        "###################################Check Missing Values\n",
        "def num_obj_features(df):\n",
        "    num_cols = []\n",
        "    obj_cols = []\n",
        "    s= df.dtypes\n",
        "    for i in s.index:\n",
        "        if (s[i] == 'int64' or s[i] == 'float64'):\n",
        "            num_cols.append(i)\n",
        "        elif s[i]== 'object':\n",
        "            obj_cols.append(i)\n",
        "        else:\n",
        "            pass\n",
        "    return num_cols, obj_cols\n",
        "\n",
        "num_col, obj_col = num_obj_features(df)"
      ]
    },
    {
      "cell_type": "code",
      "execution_count": null,
      "metadata": {
        "id": "QXpifHNe4Vo0"
      },
      "outputs": [],
      "source": [
        "df[num_col].head()\n",
        "df[obj_col].head()"
      ]
    },
    {
      "cell_type": "code",
      "execution_count": 50,
      "metadata": {
        "id": "szbtF9sT4b1x"
      },
      "outputs": [],
      "source": [
        "##################################################Find And Replace Outliers\n",
        "df.drop(['RowNumber', 'CustomerId', 'Surname'], axis = 1, inplace=True)"
      ]
    },
    {
      "cell_type": "code",
      "execution_count": 51,
      "metadata": {
        "id": "gb2g2r4-5xgG"
      },
      "outputs": [],
      "source": [
        "def find_outlier(data):\n",
        "    outlier = []\n",
        "    threshold = 3\n",
        "    mean = np.mean(data)\n",
        "    std = np.std(data)\n",
        "    for i in data:\n",
        "        z_score = (i - mean)/std\n",
        "        if np.abs(z_score)>threshold:\n",
        "            outlier.append(i)\n",
        "    return outlier\n",
        "Score_list = df['CreditScore'].tolist()\n",
        "Balance_list = df['Balance'].tolist()\n",
        "Salary_list = df['EstimatedSalary'].tolist()"
      ]
    },
    {
      "cell_type": "code",
      "execution_count": null,
      "metadata": {
        "id": "l188PwOk6OaV"
      },
      "outputs": [],
      "source": [
        "Score_outlier = find_outlier(Score_list)\n",
        "Score_outlier"
      ]
    },
    {
      "cell_type": "code",
      "execution_count": null,
      "metadata": {
        "id": "S2bQ4stSt6SL"
      },
      "outputs": [],
      "source": [
        "Balance_outlier = find_outlier(Balance_list)\n",
        "Balance_outlier"
      ]
    },
    {
      "cell_type": "code",
      "execution_count": null,
      "metadata": {
        "id": "fJgiBC-it6SL"
      },
      "outputs": [],
      "source": [
        "Salary_outlier = find_outlier(Salary_list)\n",
        "Salary_outlier"
      ]
    },
    {
      "cell_type": "code",
      "execution_count": null,
      "metadata": {
        "id": "yM0v3s536R_E"
      },
      "outputs": [],
      "source": [
        "print(\"Shape of Data before removing outliers: {}\".format(df.shape))\n"
      ]
    },
    {
      "cell_type": "code",
      "execution_count": 56,
      "metadata": {
        "id": "F_d8alVO6Vtl"
      },
      "outputs": [],
      "source": [
        "df.drop(df[df['CreditScore'] <= 359].index, inplace = True)"
      ]
    },
    {
      "cell_type": "code",
      "execution_count": null,
      "metadata": {
        "id": "94yLwyrJ6Z7I"
      },
      "outputs": [],
      "source": [
        "print(\"Shape of Data after removing outliers: {}\".format(df.shape))"
      ]
    },
    {
      "cell_type": "code",
      "execution_count": 58,
      "metadata": {
        "id": "rCl0_8PS6r5d"
      },
      "outputs": [],
      "source": [
        "############################################Split Dataset\n",
        "X= df.drop(['Exited'], axis = 1)\n",
        "y = df['Exited']"
      ]
    },
    {
      "cell_type": "code",
      "execution_count": 59,
      "metadata": {
        "id": "GDmp2A6L63ct"
      },
      "outputs": [],
      "source": [
        "##########################################Creating Dummy Variables\n",
        "dummy_vars = pd.get_dummies(X[['Geography', 'Gender']],drop_first=True)\n",
        "X = X.drop(['Geography', 'Gender'], axis = 1)\n",
        "X = pd.concat([X, dummy_vars], axis = 1)"
      ]
    },
    {
      "cell_type": "code",
      "execution_count": 60,
      "metadata": {
        "id": "BRX7tvuf7AqY"
      },
      "outputs": [],
      "source": [
        "###########################################Splitting Dataset Into Train Test\n",
        "from sklearn.model_selection import train_test_split\n",
        "X_train, X_test, y_train, y_test = train_test_split(X, y, test_size = 0.2, random_state = 42)"
      ]
    },
    {
      "cell_type": "code",
      "execution_count": 61,
      "metadata": {
        "id": "tL13736Y7Hnl"
      },
      "outputs": [],
      "source": [
        "############################################Feature Scaling\n",
        "from sklearn.preprocessing import StandardScaler\n",
        "sc = StandardScaler()\n",
        "X_train = sc.fit_transform(X_train)\n",
        "X_test = sc.transform(X_test)"
      ]
    }
  ],
  "metadata": {
    "colab": {
      "collapsed_sections": [],
      "provenance": []
    },
    "kernelspec": {
      "display_name": "Python 3 (ipykernel)",
      "language": "python",
      "name": "python3"
    },
    "language_info": {
      "codemirror_mode": {
        "name": "ipython",
        "version": 3
      },
      "file_extension": ".py",
      "mimetype": "text/x-python",
      "name": "python",
      "nbconvert_exporter": "python",
      "pygments_lexer": "ipython3",
      "version": "3.10.1"
    }
  },
  "nbformat": 4,
  "nbformat_minor": 0
}